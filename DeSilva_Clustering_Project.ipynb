{
 "cells": [
  {
   "cell_type": "markdown",
   "id": "4cd59106",
   "metadata": {},
   "source": [
    "# Clustering Project\n",
    "\n",
    "## About the Dataset: [./german_credit_data.csv](./german_credit_data.csv)\n",
    "\n",
    "\n",
    "### Context\n",
    "\n",
    "The original dataset contains 1000 entries with 20 categorial/symbolic attributes. In this dataset, each entry represents a person who takes a credit by a bank. Each person is classified as good or bad credit risks according to the set of attributes.\n",
    "\n",
    "### Content\n",
    "\n",
    "- Age (numeric)\n",
    "- Sex (text: male, female)\n",
    "- Job (numeric: 0 — unskilled and non-resident, 1 — unskilled and resident, 2 — skilled, 3 — highly skilled)\n",
    "- Housing (text: own, rent, or free)\n",
    "- Saving accounts (text — little, moderate, quite rich, rich)\n",
    "- Checking account (numeric, in DM — Deutsch Mark)\n",
    "- Credit amount (numeric, in DM)\n",
    "- Duration (numeric, in month)\n",
    "- Purpose (text: car, furniture/equipment, radio/TV, domestic appliances, repairs, education, business, vacation/others)"
   ]
  },
  {
   "cell_type": "markdown",
   "id": "0844fc03",
   "metadata": {},
   "source": [
    "## Your assignment (points in brackets):\n",
    "\n",
    "1. (1P) Analyze and clean the data\n",
    "  1. How many rows and columns and which data types?\n",
    "1. (1P) Encode and normalize the data\n",
    "1. (2P) Perform PCA and t-sne to visualize data\n",
    "1. (3P) Find clusters by using k-means, Hierachical Clustering, and DBSCAN\n",
    "1. (3P) Explain your results\n"
   ]
  },
  {
   "cell_type": "markdown",
   "id": "b7dda942",
   "metadata": {},
   "source": [
    "### Imports:"
   ]
  },
  {
   "cell_type": "code",
   "execution_count": null,
   "id": "a2faa0be",
   "metadata": {},
   "outputs": [],
   "source": [
    "import pandas as pd\n",
    "import numpy as np\n",
    "import seaborn as sns\n",
    "import matplotlib.pyplot as plt\n",
    "from sklearn.preprocessing import LabelEncoder\n",
    "from sklearn.preprocessing import StandardScaler\n",
    "from sklearn.decomposition import PCA\n",
    "from sklearn.cluster import DBSCAN\n",
    "from sklearn.cluster import KMeans\n",
    "import scipy.cluster.hierarchy as shc\n",
    "import warnings\n",
    "warnings.filterwarnings(\"ignore\")"
   ]
  },
  {
   "cell_type": "code",
   "execution_count": null,
   "id": "7b383776",
   "metadata": {},
   "outputs": [],
   "source": [
    "credit_data = pd.read_csv('./german_credit_data.csv', sep=',', usecols=['Age','Sex','Job','Housing','Saving accounts','Checking account','Credit amount','Duration','Purpose'])"
   ]
  },
  {
   "cell_type": "code",
   "execution_count": null,
   "id": "d740b86e",
   "metadata": {},
   "outputs": [],
   "source": [
    "credit_data.hist()"
   ]
  },
  {
   "cell_type": "markdown",
   "id": "3ccc8d6b",
   "metadata": {},
   "source": [
    "# Task 1 Analyze and clean the data"
   ]
  },
  {
   "cell_type": "markdown",
   "id": "86bf8372",
   "metadata": {},
   "source": [
    "# Statistical Information"
   ]
  },
  {
   "cell_type": "markdown",
   "id": "e3b7a42e",
   "metadata": {},
   "source": [
    "In this section, I've compiled certain statistical observations regarding the credit data. Although not particularly captivating, there are a couple of noteworthy points:\n",
    "\n",
    "    - The average age of credit applicants is approximately 36 years;\n",
    "    - Typically, individuals seeking credit are employed in skilled occupations, indicating a prerequisite for prior experience;\n",
    "    - The average amount of credit sought by individuals is around 3300DM, with common values falling between 6000DM and 450DM;\n",
    "    - The highest requested credit amount reached 18424DM;\n",
    "    - The average duration for credit repayment is about 21 months, equivalent to roughly two years;\n",
    "    - The longest observed credit term extended to 72 months, totaling 6 years."
   ]
  },
  {
   "cell_type": "code",
   "execution_count": null,
   "id": "8f59ffdb",
   "metadata": {},
   "outputs": [],
   "source": [
    "credit_data.describe()"
   ]
  },
  {
   "cell_type": "markdown",
   "id": "2489ca72",
   "metadata": {},
   "source": [
    "### Categorical Data"
   ]
  },
  {
   "cell_type": "markdown",
   "id": "9b69bdbe",
   "metadata": {},
   "source": [
    "In the following analysis, I've encapsulated some remarkably insightful details about the categorical data. These observations were deduced from the visual representations provided below: \n",
    "\n",
    "**Housing**: A significant majority of credit applicants own or reside in a comfortable and inviting house;\n",
    "\n",
    "**Savings Account**: The prevalent trend among credit takers is having a modest amount of money invested in their savings account;\n",
    "\n",
    "**Checking Account**: The majority of individuals seeking credit tend to maintain either a small or moderate balance in their checking account;\n",
    "\n",
    "**Purpose**: The primary motivations behind individuals seeking credit encompass purchasing a car, acquiring a radio/TV, and obtaining furniture/equipment;"
   ]
  },
  {
   "cell_type": "code",
   "execution_count": null,
   "id": "539a3617",
   "metadata": {},
   "outputs": [],
   "source": [
    "credit_data['Housing'].value_counts().plot(kind='bar')"
   ]
  },
  {
   "cell_type": "code",
   "execution_count": null,
   "id": "fb4d59d4",
   "metadata": {},
   "outputs": [],
   "source": [
    "credit_data['Saving accounts'].value_counts().plot(kind='bar')"
   ]
  },
  {
   "cell_type": "code",
   "execution_count": null,
   "id": "756085bd",
   "metadata": {},
   "outputs": [],
   "source": [
    "credit_data['Checking account'].value_counts().plot(kind='bar')"
   ]
  },
  {
   "cell_type": "code",
   "execution_count": null,
   "id": "754bbd9f",
   "metadata": {},
   "outputs": [],
   "source": [
    "credit_data['Purpose'].value_counts().plot(kind='bar')"
   ]
  },
  {
   "cell_type": "markdown",
   "id": "3f11b38b",
   "metadata": {},
   "source": [
    "## Clean the Data\n",
    "Upon scrutinizing both the statistical and categorical data analyses, there doesn't appear to be any discernible noise or incorrect values within the dataset. Therefore, our attention will be directed towards addressing missing values;\n",
    "\n",
    "Upon closer examination, it is evident that the only features with missing values are 'Saving accounts' and 'Checking account'"
   ]
  },
  {
   "cell_type": "code",
   "execution_count": null,
   "id": "c0b77519",
   "metadata": {},
   "outputs": [],
   "source": [
    "credit_data.isna().sum(axis=0)"
   ]
  },
  {
   "cell_type": "markdown",
   "id": "d1080456",
   "metadata": {},
   "source": [
    "Identifying 394 missing values is indeed a concern, as it affects more than a third of our dataset. Opting to simply drop rows with N/A values would lead to a substantial loss of valuable information\n",
    "\n",
    "Given the critical nature of data integrity, especially in the context of a bank, it is likely that these missing data points signify instances where the individual did not have a saving or checking account.\n",
    "\n",
    "To accommodate this assumption, I will replace these missing values with a distinct category: \"No Account.\" This strategy enables us to preserve the data for subsequent encoding and analysis"
   ]
  },
  {
   "cell_type": "code",
   "execution_count": null,
   "id": "28660a71",
   "metadata": {},
   "outputs": [],
   "source": [
    "credit_data_filtered = credit_data.copy()\n",
    "\n",
    "credit_data_filtered = credit_data_filtered.dropna()\n",
    "\n",
    "credit_data_filtered.isna().sum()"
   ]
  },
  {
   "cell_type": "markdown",
   "id": "26868bb8",
   "metadata": {},
   "source": [
    "Now our data is clean"
   ]
  },
  {
   "cell_type": "markdown",
   "id": "461b131c",
   "metadata": {},
   "source": [
    "# TASK 1(A). How many rows and columns and which data types?"
   ]
  },
  {
   "cell_type": "markdown",
   "id": "8a0ae303",
   "metadata": {},
   "source": [
    "Solution: With index of CSV"
   ]
  },
  {
   "cell_type": "code",
   "execution_count": null,
   "id": "49bec7f4",
   "metadata": {},
   "outputs": [],
   "source": [
    "df = pd.read_csv('german_credit_data.csv')\n",
    "print(\"ROWS:\",df.shape[0])\n",
    "print(\"\\nCOLUMNS:\",df.shape[1])\n",
    "print(\"\\nCOLUMN : DATA TYPE:\")\n",
    "for column in df.columns:\n",
    "    print(column,':',df[column].dtype)"
   ]
  },
  {
   "cell_type": "markdown",
   "id": "5f733d5c",
   "metadata": {},
   "source": [
    "Solution: Without index of CSV"
   ]
  },
  {
   "cell_type": "code",
   "execution_count": null,
   "id": "d7fd6ecd",
   "metadata": {},
   "outputs": [],
   "source": [
    "df_1 = pd.read_csv('german_credit_data.csv', usecols=['Age','Sex','Job','Housing','Saving accounts','Checking account','Credit amount','Duration','Purpose'])\n",
    "print(\"ROWS:\",df_1.shape[0])\n",
    "print(\"\\nCOLUMNS:\",df_1.shape[1])\n",
    "print(\"\\nCOLUMN : DATA TYPE:\")\n",
    "for column in df_1.columns:\n",
    "    print(column,':',df_1[column].dtype)"
   ]
  },
  {
   "cell_type": "markdown",
   "id": "bffd3412",
   "metadata": {},
   "source": [
    "# TASK 2. Encode and normalize the data"
   ]
  },
  {
   "cell_type": "markdown",
   "id": "00a1afd9",
   "metadata": {},
   "source": [
    "We will commence the encoding process by transforming the non-numerical values: Sex, Housing, Saving accounts, Checking account, Purpose, and Risk.\n",
    "\n",
    "Upon enumerating the potential categories within these columns, it becomes apparent that there are more than 17 options. Opting for one-hot encoding in this situation would lead to a considerably sparse dataset. It is generally advised that when the number of categories surpasses 17, a conventional label encoding is the more suitable approach—hence, that is the path we will follow."
   ]
  },
  {
   "cell_type": "code",
   "execution_count": null,
   "id": "ffae3a35",
   "metadata": {},
   "outputs": [],
   "source": [
    "credit_data_filtered_encoded = credit_data_filtered.copy()\n",
    "\n",
    "for column in credit_data_filtered_encoded:\n",
    "    if credit_data_filtered_encoded[column].dtype == 'object':\n",
    "        credit_data_filtered_encoded[column] = LabelEncoder().fit_transform(credit_data_filtered_encoded[column])\n",
    "\n",
    "credit_data_filtered_encoded"
   ]
  },
  {
   "cell_type": "markdown",
   "id": "6abdd1a9",
   "metadata": {},
   "source": [
    "Now we normalize it"
   ]
  },
  {
   "cell_type": "code",
   "execution_count": null,
   "id": "0aefd7b3",
   "metadata": {},
   "outputs": [],
   "source": [
    "X = credit_data_filtered_encoded.copy()\n",
    "\n",
    "column_names = ['Age', 'Sex', 'Job', 'Housing', 'Saving accounts', 'Checking account', 'Credit amount', 'Duration', 'Purpose']\n",
    "X_scaled = pd.DataFrame(StandardScaler().fit_transform(X), columns=column_names)\n",
    "X_scaled"
   ]
  },
  {
   "cell_type": "markdown",
   "id": "8a69022e",
   "metadata": {},
   "source": [
    "# TASK 3. Perform PCA and t-sne to visualize data"
   ]
  },
  {
   "cell_type": "markdown",
   "id": "7fc39a95",
   "metadata": {},
   "source": [
    "Even with the implementation of dimensionality reduction techniques such as PCA and t-SNE, the data exhibits challenges in segmentation.\n",
    "\n",
    "    - The PCA result does not yield distinct clusters; however, it does bring to light some noticeable outliers within the data.\n",
    "    - The t-SNE visualization, while offering a more stratified outcome, doesn't form a few cohesive clusters. Instead, it presents numerous smaller clusters."
   ]
  },
  {
   "cell_type": "markdown",
   "id": "11271cef",
   "metadata": {},
   "source": [
    "## PCA"
   ]
  },
  {
   "cell_type": "markdown",
   "id": "be5b545a",
   "metadata": {},
   "source": [
    "At the outset, we perform PCA. Upon examining the Principal Components, it becomes apparent that they exhibit relatively low variances.\n",
    "\n",
    "In the context of the PCA algorithm, low variance in principal components implies that the data points are closely clustered around the mean and demonstrate limited dispersion. Essentially, this suggests that the features within the dataset are relatively uniform, displaying minimal variability.."
   ]
  },
  {
   "cell_type": "code",
   "execution_count": null,
   "id": "f52126cc",
   "metadata": {},
   "outputs": [],
   "source": [
    "pca = PCA(svd_solver='auto').fit(X_scaled)\n",
    "print(\"PCA COMPONENTS:\", pca.explained_variance_ratio_)\n",
    "pca_transform = pca.transform(X_scaled)\n"
   ]
  },
  {
   "cell_type": "code",
   "execution_count": null,
   "id": "0b4aa558",
   "metadata": {},
   "outputs": [],
   "source": [
    "plot = plt.scatter(pca_transform[:,0], pca_transform[:,1])\n",
    "plt.xlabel('PC1')\n",
    "plt.ylabel('PC2')\n",
    "plt.show()"
   ]
  },
  {
   "cell_type": "markdown",
   "id": "d3ddc63f",
   "metadata": {},
   "source": [
    "## t-SNE"
   ]
  },
  {
   "cell_type": "code",
   "execution_count": null,
   "id": "f088f0c2",
   "metadata": {},
   "outputs": [],
   "source": [
    "from sklearn.manifold import TSNE\n",
    "\n",
    "tsne = TSNE(n_components=2, learning_rate='auto', init='random', perplexity=3).fit_transform(X_scaled)\n",
    "\n",
    "plt.scatter(tsne[:, 0], tsne[:, 1])\n",
    "plt.title('t-SNE Visualization')\n",
    "plt.xlabel('t-SNE Component 1')\n",
    "plt.ylabel('t-SNE Component 2')\n",
    "plt.show()"
   ]
  },
  {
   "cell_type": "code",
   "execution_count": null,
   "id": "6198a260",
   "metadata": {},
   "outputs": [],
   "source": [
    "print(X_scaled.dtypes)\n",
    "print(X_scaled.head())\n"
   ]
  },
  {
   "cell_type": "code",
   "execution_count": null,
   "id": "2e169d74",
   "metadata": {
    "scrolled": true
   },
   "outputs": [],
   "source": [
    "from sklearn.manifold import TSNE\n",
    "\n",
    "tsne = TSNE(n_components=2, learning_rate='auto', init='pca', perplexity=3).fit_transform(X_scaled)\n",
    "\n",
    "plt.scatter(tsne[:, 0], tsne[:, 1])\n",
    "plt.title('t-SNE Visualization')\n",
    "plt.xlabel('t-SNE Component 1')\n",
    "plt.ylabel('t-SNE Component 2')\n",
    "plt.show()\n"
   ]
  },
  {
   "cell_type": "markdown",
   "id": "3b195800",
   "metadata": {},
   "source": [
    "## TASK 4. Find clusters by using k-means, Hierachical Clustering, and DBSCAN"
   ]
  },
  {
   "cell_type": "markdown",
   "id": "14514469",
   "metadata": {},
   "source": [
    "## Kmeans"
   ]
  },
  {
   "cell_type": "markdown",
   "id": "a5965b49",
   "metadata": {},
   "source": [
    "**Summary**: Upon the preliminary assessment, K-Means seems to excel in clustering. However, a closer examination, when comparing the results with the actual risk, unveils substantial discrepancies\n",
    "\n",
    "Considering our objective is to categorize individuals seeking credit into either a risky or non-risky group, involving only two options, we have configured the number of clusters to k=2."
   ]
  },
  {
   "cell_type": "markdown",
   "id": "5f3b99f2",
   "metadata": {},
   "source": [
    "## Predicted (PCA Data)"
   ]
  },
  {
   "cell_type": "code",
   "execution_count": null,
   "id": "6ae4e952",
   "metadata": {},
   "outputs": [],
   "source": [
    "kmeans = KMeans(n_clusters=2, random_state=0, n_init=\"auto\").fit(pca_transform)\n",
    "\n",
    "plt.scatter(pca_transform[:, 0], pca_transform[:, 1], c=kmeans.labels_, cmap='plasma')\n",
    "plt.title('K-Means Clustering')\n",
    "plt.xlabel('Principal Component 1')\n",
    "plt.ylabel('Principal Component 2')\n",
    "plt.show()\n",
    "\n",
    "\n",
    "\n",
    "\n",
    "#clustering results shown\n",
    "\n",
    "kmeans = KMeans(n_clusters=2, random_state=0, n_init=\"auto\").fit(pca_transform)\n",
    "\n",
    "\n",
    "#plt.scatter(pca_transform[:, 0], pca_transform[:, 1], c=y, marker='o', label='True Labels', cmap='viridis', alpha=0.5)\n",
    "plt.scatter(pca_transform[:, 0], pca_transform[:, 1], c=kmeans.labels_, marker='x', label='K-Means Clusters', cmap='plasma', s=100)\n",
    "plt.legend()\n",
    "plt.title('Comparison of True Labels and K-Means Clustering Results')\n",
    "plt.xlabel('Principal Component 1')\n",
    "plt.ylabel('Principal Component 2')\n",
    "plt.show()\n"
   ]
  },
  {
   "cell_type": "markdown",
   "id": "8793c6a8",
   "metadata": {},
   "source": [
    "## Actual (PCA Data)"
   ]
  },
  {
   "cell_type": "code",
   "execution_count": null,
   "id": "e82abff9",
   "metadata": {},
   "outputs": [],
   "source": [
    "kmeans = KMeans(n_clusters=2, random_state=0, n_init=\"auto\").fit(pca_transform)\n",
    "# credit_data_filtered_encoded\n",
    "plt.scatter(pca_transform[:,0] , pca_transform[:,1])\n",
    "plt.show()"
   ]
  },
  {
   "cell_type": "markdown",
   "id": "42c74235",
   "metadata": {},
   "source": [
    "## Predicted (T-SNE)"
   ]
  },
  {
   "cell_type": "code",
   "execution_count": null,
   "id": "99017918",
   "metadata": {
    "scrolled": true
   },
   "outputs": [],
   "source": [
    "kmeans = KMeans(n_clusters=2, random_state=0, n_init=\"auto\").fit(tsne)\n",
    "# credit_data_filtered_encoded\n",
    "plt.scatter(tsne[:,0] , tsne[:,1], c=kmeans.predict(tsne))\n",
    "plt.show()"
   ]
  },
  {
   "cell_type": "markdown",
   "id": "f610262d",
   "metadata": {},
   "source": [
    "## Actual (T-SNE)"
   ]
  },
  {
   "cell_type": "code",
   "execution_count": null,
   "id": "8346e5e8",
   "metadata": {},
   "outputs": [],
   "source": [
    "kmeans = KMeans(n_clusters=2, random_state=0, n_init=\"auto\").fit(tsne)\n",
    "# credit_data_filtered_encoded\n",
    "plt.scatter(tsne[:,0] , tsne[:,1])\n",
    "plt.show()"
   ]
  },
  {
   "cell_type": "markdown",
   "id": "dabbd95e",
   "metadata": {},
   "source": [
    "## Dendogram"
   ]
  },
  {
   "cell_type": "markdown",
   "id": "d0d5bcb2",
   "metadata": {},
   "source": [
    "**Summary**: The dendrogram for PCA visually separates the entire set of data points into four distinct clusters.\n",
    "\n",
    "The Dendogram for TSNE breaks the overall data points into 3 clusters."
   ]
  },
  {
   "cell_type": "code",
   "execution_count": null,
   "id": "5fc99b16",
   "metadata": {},
   "outputs": [],
   "source": [
    "selected_data = pca_transform\n",
    "clusters = shc.linkage(selected_data, \n",
    "            method='ward', \n",
    "            metric=\"euclidean\")\n",
    "shc.dendrogram(Z=clusters)\n",
    "plt.show()"
   ]
  },
  {
   "cell_type": "code",
   "execution_count": null,
   "id": "2bfea189",
   "metadata": {},
   "outputs": [],
   "source": [
    "selected_data = tsne\n",
    "clusters = shc.linkage(selected_data, \n",
    "            method='ward', \n",
    "            metric=\"euclidean\")\n",
    "shc.dendrogram(Z=clusters)\n",
    "plt.show()"
   ]
  },
  {
   "cell_type": "markdown",
   "id": "843ea009",
   "metadata": {},
   "source": [
    "## DBSCAN"
   ]
  },
  {
   "cell_type": "markdown",
   "id": "e2a7e2dc",
   "metadata": {},
   "source": [
    "**Summary**: As expected, the visual representation of DBSCAN showcases suboptimal performance in both the PCA and t-SNE algorithms when attempting to form two clusters."
   ]
  },
  {
   "cell_type": "code",
   "execution_count": null,
   "id": "2744bd05",
   "metadata": {},
   "outputs": [],
   "source": [
    "dbpca = DBSCAN(eps=3, min_samples=4).fit(pca_transform)\n",
    "plt.scatter(pca_transform[:,0] , pca_transform[:,1], c=dbpca.fit_predict(pca_transform))\n",
    "plt.show()"
   ]
  },
  {
   "cell_type": "code",
   "execution_count": null,
   "id": "a57f349a",
   "metadata": {},
   "outputs": [],
   "source": [
    "clustering = DBSCAN(eps=16, min_samples=1).fit(tsne)\n",
    "plt.scatter(tsne[:,0] , tsne[:,1], c=clustering.fit_predict(tsne))\n",
    "plt.show()"
   ]
  },
  {
   "cell_type": "markdown",
   "id": "01977d87",
   "metadata": {},
   "source": [
    "## TASK 5. Explain your results"
   ]
  },
  {
   "cell_type": "markdown",
   "id": "40392010",
   "metadata": {},
   "source": [
    "**PCA and T-SNE**\n",
    "\n",
    "The PCA analysis indicated a relatively low variance in its components, leading to a reduction of the data by one dimension. This resulted in less distinct clusters, making it challenging to identify clear patterns. In contrast, T-SNE revealed numerous segmented clusters, but none of them formed noticeable patterns that could be classified as high or low risk.\n",
    "\n",
    "**K-Means, Dendrogram, DBSCAN**\n",
    "\n",
    "Both K-Means and DBSCAN showed limited success in creating clusters when compared to the actual target in the PCA and T-SNE data. The dendrogram suggested that PCA and T-SNE were generally better at segmenting the data within 3 or 4 clusters.\n",
    "\n",
    "**Further Explanation**\n",
    "    <p>**PCA and T-SNE:**\n",
    "\n",
    "PCA Analysis: Principal Component Analysis (PCA) is a dimensionality reduction technique that identifies patterns and relationships within data. In this case, the variance in the PCA components was low, indicating that the data points were not well-separated in the reduced dimensional space.\n",
    "\n",
    "T-SNE: t-Distributed Stochastic Neighbor Embedding (T-SNE) is another dimensionality reduction technique, often used for visualization. It created segmented clusters, but these clusters did not exhibit clear distinctions that could be associated with high or low-risk patterns.\n",
    "\n",
    "**K-Means, Dendrogram, DBSCAN:**\n",
    "\n",
    "K-Means: This clustering algorithm was not entirely successful in forming clusters that aligned with the actual risk categories in the PCA and T-SNE data.\n",
    "\n",
    "Dendrogram: A dendrogram is a tree-like diagram that shows the hierarchical relationships between data points. In this context, it suggested that the data was better segmented into 3 or 4 clusters, as opposed to the 2 clusters assumed by K-Means.\n",
    "\n",
    "DBSCAN: Density-Based Spatial Clustering of Applications with Noise (DBSCAN) exhibited suboptimal performance in forming two clusters, as expected\n",
    "\n",
    "**Conclusion**\n",
    "\n",
    "While attempts were made to cluster the data directly using PCA and T-SNE, a more comprehensive analysis is recommended:\n",
    "\n",
    "    - Check feature correlations to identify potential candidates for removal;\n",
    "    - Explore clustering not only on PCA and T-SNE but also on combinations of the original features;\n",
    "    - Create scatter plots of all feature combinations to understand relationships;\n",
    "    - Consider using advanced ML algorithms like XGBoost for better performance\n",
    "\n",
    "In summary, a deeper level of preprocessing and analysis is essential to gain more meaningful insights into the clustering task."
   ]
  },
  {
   "cell_type": "code",
   "execution_count": null,
   "id": "f4fd4a42",
   "metadata": {},
   "outputs": [],
   "source": []
  }
 ],
 "metadata": {
  "kernelspec": {
   "display_name": "Python 3 (ipykernel)",
   "language": "python",
   "name": "python3"
  },
  "language_info": {
   "codemirror_mode": {
    "name": "ipython",
    "version": 3
   },
   "file_extension": ".py",
   "mimetype": "text/x-python",
   "name": "python",
   "nbconvert_exporter": "python",
   "pygments_lexer": "ipython3",
   "version": "3.11.5"
  }
 },
 "nbformat": 4,
 "nbformat_minor": 5
}
